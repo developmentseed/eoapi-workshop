{
 "cells": [
  {
   "cell_type": "markdown",
   "id": "9edbdd3b-5b35-4bbb-9e15-e5152260aa24",
   "metadata": {},
   "source": [
    "# 2. The Database: pgstac\n",
    "\n",
    "pgstac is a PostgreSQL extension that enables STAC metadata management in a PostgreSQL database.\n",
    "eoAPI is useful to many organizations because the other components are configured to work seamlessly with STAC metadata that is stored in your pgstac database.\n",
    "\n",
    "**pypgstac** is a Python package for interacting with a pgstac database. You will learn  how to use pypgstac to perform the following operations on a pgstac database:\n",
    "1. Generate STAC collection record\n",
    "2. Add the record to the `collections` table with `Loader.load_collections`\n",
    "3. Generate STAC item records\n",
    "4. Add new records to the `items` table with `Loader.load_items`\n",
    "5. Delete an item from the `items` table\n",
    "\n",
    "For production deployments your STAC metadata generation and ingestion workflow will probably not take place in a notebook but the basic steps will be the same!\n",
    "\n",
    "Fill in the input boxes below to get started with your own personal Sentinel-2 STAC collection!\n",
    "- You will be using the `username` value to create a unique STAC collection\n",
    "- Set a location that is special to you in the lat/lon field - this will determine the spatial extent of your STAC collection\n",
    "- You will need to enter the database credentials here in order to post data to the database in this notebook."
   ]
  },
  {
   "cell_type": "code",
   "execution_count": null,
   "id": "196e7c1d-b82b-4d66-bf96-4942cd02392c",
   "metadata": {
    "editable": true,
    "slideshow": {
     "slide_type": ""
    },
    "tags": [
     "hide-input"
    ]
   },
   "outputs": [],
   "source": [
    "import os\n",
    "import random\n",
    "\n",
    "import ipywidgets as widgets\n",
    "from haikunator import Haikunator\n",
    "from IPython.display import display\n",
    "\n",
    "username_input = widgets.Text(\n",
    "    value=Haikunator().haikunate(),\n",
    "    placeholder=\"Enter your username\",\n",
    "    description=\"username:\",\n",
    "    disabled=False,\n",
    ")\n",
    "\n",
    "lat_input = widgets.BoundedFloatText(\n",
    "    value=random.randint(-90, 90),\n",
    "    min=-90,\n",
    "    max=90,\n",
    "    placeholder=\"enter the latitude of your hometown\",\n",
    "    description=\"latitude:\",\n",
    "    disabled=False,\n",
    ")\n",
    "lon_input = widgets.BoundedFloatText(\n",
    "    value=random.randint(-180, 180),\n",
    "    min=-180,\n",
    "    max=180,\n",
    "    placeholder=\"enter the longitude of your hometown\",\n",
    "    description=\"longitude:\",\n",
    "    disabled=False,\n",
    ")\n",
    "\n",
    "# Display the widgets\n",
    "display(username_input)\n",
    "display(lat_input)\n",
    "display(lon_input)"
   ]
  },
  {
   "cell_type": "markdown",
   "id": "e6d710ec-c2b0-4784-a8ce-a9c3694abc35",
   "metadata": {},
   "source": [
    "## 2.1 Load a collection object\n",
    "\n",
    "Start by creating a collection that will contain items within ~2 degrees of your provided location between January 1 2025 and April 18 2025."
   ]
  },
  {
   "cell_type": "code",
   "execution_count": null,
   "id": "1a09b4e5-1727-4ee2-96ef-e0772267829d",
   "metadata": {},
   "outputs": [],
   "source": [
    "from datetime import datetime, timedelta\n",
    "\n",
    "import pystac_client\n",
    "from pystac import Collection, Extent, SpatialExtent, TemporalExtent\n",
    "from pypgstac.db import PgstacDB\n",
    "from pypgstac.load import Loader, Methods\n",
    "from shapely.geometry import Point\n",
    "\n",
    "stac_api_endpoint = os.getenv(\"STAC_API_ENDPOINT\")\n",
    "\n",
    "collection_id = f\"{username_input.value}-sentinel-2-c1-l2a\"\n",
    "bbox = Point(lon_input.value, lat_input.value).buffer(2).bounds\n",
    "\n",
    "today = datetime.today()\n",
    "temporal_extent = [today - timedelta(days=60), today]\n",
    "\n",
    "my_collection = Collection(\n",
    "    id=collection_id,\n",
    "    description=f\"{username_input.value}'s personal Sentinel-2 L2A collection\",\n",
    "    extent=Extent(\n",
    "        spatial=SpatialExtent([[*bbox]]),\n",
    "        temporal=TemporalExtent([temporal_extent]),\n",
    "    ),\n",
    ")\n",
    "my_collection"
   ]
  },
  {
   "cell_type": "markdown",
   "id": "c5599078-40a9-49ed-a2a4-4c4dd409ce39",
   "metadata": {},
   "source": [
    "To connect to the `pgstac` database and upload data `pypgstac` will use the `PG*` environment variables that are set in the docker network. With those set you can instantiate a `PgstacDB` and `Loader` pair."
   ]
  },
  {
   "cell_type": "code",
   "execution_count": null,
   "id": "0536d319-0b51-40b4-8fe2-4ceb3ceacfec",
   "metadata": {},
   "outputs": [],
   "source": [
    "db = PgstacDB()\n",
    "loader = Loader(db)"
   ]
  },
  {
   "cell_type": "markdown",
   "id": "af1fa92d-97b3-4b70-b7b9-b371a06741a3",
   "metadata": {},
   "source": [
    "The `load_collections` method accepts an iterable of STAC collection dictionaries or a file path to a collection.json file or a .ndjson file with multiple collection records. You already have your `pystac.Collection` in memory in this session so you can just write it to a dictionary and upload it (in a list). \n",
    "\n",
    "The `upsert` method will add your collection to the `collections` table if it does not exist and update any fields with new values if the record does already exist."
   ]
  },
  {
   "cell_type": "code",
   "execution_count": null,
   "id": "7ae2471c-8164-466f-a56d-745213cb7316",
   "metadata": {},
   "outputs": [],
   "source": [
    "loader.load_collections([my_collection.to_dict()], insert_mode=Methods.upsert)"
   ]
  },
  {
   "cell_type": "markdown",
   "id": "a607a1ca-d23d-4c42-bc55-e1def489599f",
   "metadata": {},
   "source": [
    "Now if you run a query on the database you will find a record for your collection!"
   ]
  },
  {
   "cell_type": "code",
   "execution_count": null,
   "id": "7d71b6b1-70c3-4e5d-9444-f1dddb4e98c3",
   "metadata": {},
   "outputs": [],
   "source": [
    "list(db.query(f\"SELECT id from collections where id = '{my_collection.id}';\"))"
   ]
  },
  {
   "cell_type": "markdown",
   "id": "e62c2e30-5e0a-4a9f-9a35-16bdd24e88e8",
   "metadata": {},
   "source": [
    "## 2.2 Upload items\n",
    "\n",
    "You already learned how to create STAC items from scratch in the [STAC metadata](./stac_metadata.ipynb) notebook so you get to take a shortcut for this one. Instead of creating STAC metadata from scratch you can just copy some from an existing STAC collection - this will be sufficient for our exercises during the workshop.\n",
    "\n",
    "This code will find Sentinel-2 L2A items for the first few months of 2025 that intersect the bounding box of a 2 degree radius around the coordinate that you entered at the top of the notebook."
   ]
  },
  {
   "cell_type": "code",
   "execution_count": null,
   "id": "6a858a2d-57b7-40e9-8235-2c341f43a8de",
   "metadata": {},
   "outputs": [],
   "source": [
    "source_client = pystac_client.Client.open(\"https://earth-search.aws.element84.com/v1\")\n",
    "\n",
    "search = source_client.search(\n",
    "    collections=\"sentinel-2-c1-l2a\",\n",
    "    bbox=bbox,\n",
    "    datetime=temporal_extent,\n",
    "    limit=100,  # pagination limit\n",
    ")\n",
    "\n",
    "items = search.item_collection()\n",
    "\n",
    "print(len(items))"
   ]
  },
  {
   "cell_type": "markdown",
   "id": "34af967a-b837-4910-afde-6145582cf216",
   "metadata": {},
   "source": [
    "You are going to upload these items to the items table in the `pgstac` database but to do so you need to make sure the items' collection ID matches an existing collection - set it to match the collection that you uploaded in the previous step."
   ]
  },
  {
   "cell_type": "code",
   "execution_count": null,
   "id": "a410af0b-6d3c-4a8a-87ee-b16265afcd6a",
   "metadata": {},
   "outputs": [],
   "source": [
    "# override the collection id to match your new collection\n",
    "for item in items:\n",
    "    item.set_collection(my_collection)\n",
    "\n",
    "items[0]"
   ]
  },
  {
   "cell_type": "markdown",
   "id": "05a5a11e-9c20-41c0-aa5c-b078731173d8",
   "metadata": {},
   "source": [
    "Now you can use the `load_items` method to upload the list of STAC item dictionaries to the items table in the `pgstac` database. The `insert_ignore` method will upload any items that do not exist in the table and skip records that already exist."
   ]
  },
  {
   "cell_type": "code",
   "execution_count": null,
   "id": "82443eb2-0d59-46b2-9178-25acb3d0593e",
   "metadata": {},
   "outputs": [],
   "source": [
    "loader.load_items([item.to_dict() for item in items], insert_mode=Methods.insert_ignore)"
   ]
  },
  {
   "cell_type": "markdown",
   "id": "680a5d26-05c0-4cf9-ac7a-ccc555675a18",
   "metadata": {},
   "source": [
    "Hooray you uploaded some items! Now run a query to verify that the records landed in the items table."
   ]
  },
  {
   "cell_type": "code",
   "execution_count": null,
   "id": "48133d14-e301-45b4-973d-1b846a6c503a",
   "metadata": {},
   "outputs": [],
   "source": [
    "n_items = db.query_one(\n",
    "    f\"SELECT COUNT(*) FROM items where collection = '{my_collection.id}';\"\n",
    ")\n",
    "print(f\"there are {n_items} items\")"
   ]
  },
  {
   "cell_type": "markdown",
   "id": "579370f8-3cde-4f6f-bff2-796aa08344eb",
   "metadata": {},
   "source": [
    "Here is your first glimpse of the power of STAC metadata. You just uploaded these items to the database and now you can browse the data in a beautiful interface without doing any more work!\n",
    "\n",
    "[Radiant Earth](https://radiant.earth/) built a tool called [STAC Browser](https://radiantearth.github.io/stac-browser/#/?.language=en) that is a human-readable interface to a STAC API. Your collection is immediately availble in the STAC API so you can browse it in STAC Browser. Take a tour around the STAC Browser page for your collection. "
   ]
  },
  {
   "cell_type": "code",
   "execution_count": null,
   "id": "ba5f6278-4d92-4386-af1d-94ca5aed6c30",
   "metadata": {},
   "outputs": [],
   "source": [
    "from IPython.display import IFrame\n",
    "\n",
    "stac_api_endpoint = os.getenv(\"STAC_API_ENDPOINT\").replace(\"stac-fastapi\", \"localhost\")\n",
    "\n",
    "IFrame(\n",
    "    f\"https://radiantearth.github.io/stac-browser/#/external/{stac_api_endpoint}/collections/{my_collection.id}\",\n",
    "    1200,\n",
    "    800,\n",
    ")"
   ]
  },
  {
   "cell_type": "markdown",
   "id": "cdd2d506-7dad-48f1-acb4-4188b54c0346",
   "metadata": {},
   "source": [
    "## 2.3 Delete an item\n",
    "\n",
    "It is less common but you might want to delete a STAC record some day. There are not yet any `pypgstac` functions for doing this but it is relatively easy to do via PostgreSQL query.\n",
    "\n",
    "Try deleting the last item in the list."
   ]
  },
  {
   "cell_type": "code",
   "execution_count": null,
   "id": "4c6782bf-b043-49a0-a338-7676ff52d005",
   "metadata": {},
   "outputs": [],
   "source": [
    "with db.connect() as conn:\n",
    "    cur = conn.cursor()\n",
    "    cur.execute(f\"DELETE FROM items where id = '{items[-1].id}';\")\n",
    "    cur.close()\n",
    "    conn.commit()"
   ]
  },
  {
   "cell_type": "code",
   "execution_count": null,
   "id": "d3030aa7-4aaa-4ead-8589-b88759968f99",
   "metadata": {},
   "outputs": [],
   "source": [
    "new_n_items = db.query_one(\n",
    "    f\"SELECT COUNT(*) FROM items where collection = '{my_collection.id}';\"\n",
    ")\n",
    "print(f\"now there are {new_n_items} items\")"
   ]
  },
  {
   "cell_type": "code",
   "execution_count": null,
   "id": "dd34e829-0fc7-4abd-88ed-6fce8e73d1bf",
   "metadata": {},
   "outputs": [],
   "source": [
    "# put it back :)\n",
    "loader.load_items([items[-1].to_dict()], insert_mode=Methods.insert_ignore)"
   ]
  },
  {
   "cell_type": "markdown",
   "id": "14f29b16-f8f3-4533-af79-98b471c21671",
   "metadata": {},
   "source": [
    "## 2.4 Search with pypgstac\n",
    "\n",
    "It is not going to be the best option for searching a pgstac database in most cases (you should probably send a request to stac-fastapi-pgstac), but you can use pypgstac to search for items. You can provide a JSON request body like you would provide to a STAC API in the `query` arg of `PgstacDB.search`:"
   ]
  },
  {
   "cell_type": "code",
   "execution_count": null,
   "id": "7137a06e-135c-478a-a79f-d7134bd48d3d",
   "metadata": {
    "scrolled": true
   },
   "outputs": [],
   "source": [
    "search_results = db.search(query={\"collections\": [my_collection.id], \"limit\": 1})\n",
    "\n",
    "print(search_results)"
   ]
  },
  {
   "cell_type": "markdown",
   "id": "241a54e8-1ec2-401f-bded-7a87bd1931e2",
   "metadata": {},
   "source": [
    "## 2.5 Aggregations\n",
    "\n",
    "Since your metadata is now cataloged in a PostgreSQL database, you can summarize it using SQL!"
   ]
  },
  {
   "cell_type": "code",
   "execution_count": null,
   "id": "81f8addb-d890-434f-984e-b4ea591e94ef",
   "metadata": {},
   "outputs": [],
   "source": [
    "summary_query = db.query(\n",
    "    \"SELECT collection, COUNT(*) as count FROM items GROUP BY collection;\"\n",
    ")\n",
    "for res in summary_query:\n",
    "    print(res)"
   ]
  },
  {
   "cell_type": "code",
   "execution_count": null,
   "id": "a9438ee2-50ee-48e6-907f-4b7e6c6ac151",
   "metadata": {},
   "outputs": [],
   "source": [
    "db.close()"
   ]
  },
  {
   "cell_type": "code",
   "execution_count": null,
   "id": "5d5bd575-49a4-45cb-ad81-567f70954fe2",
   "metadata": {},
   "outputs": [],
   "source": []
  }
 ],
 "metadata": {
  "kernelspec": {
   "display_name": "Python 3 (ipykernel)",
   "language": "python",
   "name": "python3"
  },
  "language_info": {
   "codemirror_mode": {
    "name": "ipython",
    "version": 3
   },
   "file_extension": ".py",
   "mimetype": "text/x-python",
   "name": "python",
   "nbconvert_exporter": "python",
   "pygments_lexer": "ipython3",
   "version": "3.12.12"
  }
 },
 "nbformat": 4,
 "nbformat_minor": 5
}
