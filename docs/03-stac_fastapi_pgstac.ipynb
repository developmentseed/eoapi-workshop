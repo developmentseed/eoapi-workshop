{
 "cells": [
  {
   "cell_type": "markdown",
   "id": "7f4f9109-ac1f-473b-b30b-c35294ae426d",
   "metadata": {},
   "source": [
    "# 3. The STAC API: stac-fastapi-pgstac\n",
    "\n",
    "The STAC API provided by eoAPI is [stac-fastapi-pgstac](https://github.com/stac-utils/stac-fastapi-pgstac): a stac-fastapi application with a pgstac backend.\n",
    "stac-fastapi-pgstac translates STAC API requests into pgstac queries and returns the results to the requester.\n",
    "\n",
    "The stac-fastapi-pgstac STAC API can be accessed using any HTTP client but STAC API clients like `pystac-client` provide a more intuitive interface. In this tutorial you will learn how to use HTTP requests via `httpx` as well as `pystac-client` methods."
   ]
  },
  {
   "cell_type": "markdown",
   "id": "dvz2q1b61q",
   "source": "# Workshop Setup\n\nRun this cell to configure your workshop environment. You'll be prompted to enter the workshop access token provided by your instructor.",
   "metadata": {}
  },
  {
   "cell_type": "code",
   "id": "pymu2y6moei",
   "source": "from workshop_setup import setup\n\n# This will prompt for your workshop token and configure environment variables\nconfig = setup()",
   "metadata": {},
   "execution_count": null,
   "outputs": []
  },
  {
   "attachments": {},
   "cell_type": "markdown",
   "id": "c8ec4c5b-1156-4608-8ab9-b2cdcbcc47e1",
   "metadata": {},
   "source": [
    "## 3.1 stac-fastapi-pgstac structure\n",
    "\n",
    "A standard eoAPI deployment will run an unmodified version of the FastAPI application defined in `stac_fastapi.pgstac.app:app` ([source](https://github.com/stac-utils/stac-fastapi-pgstac/blob/main/stac_fastapi/pgstac/app.py)). Unless otherwise specified, all of the extensions except the `transaction` and `bulk-transaction` extensions will be enabled but be sure to double check this in your own deployment.\n",
    "\n",
    "<div class=\"alert alert-block alert-warning\">\n",
    "<b>Warning</b>: Do not turn on the transaction or bulk transactions extensions for a public-facing STAC API without some kind of auth layer enabled! Enabling the transactions extensions enables users to POST collections or items to the database via stac-fastapi-pgstac.\n",
    "</div>\n",
    "\n",
    "stac-fastapi-pgstac implements a pgstac client that is capable of serving the routes defined by stac-fastapi's base `StacApi` factory class ([source](https://github.com/stac-utils/stac-fastapi/blob/main/stac_fastapi/api/stac_fastapi/api/app.py)). The pgstac client's methods contain the logic for translating API requests into pgstac database queries.\n",
    "\n",
    "For example, a search request for items in the \"amazing\" collection where the item bounding box intersects (0, 0, 10, 10) would get converted to a PostgreSQL query like this pseudo-sql:\n",
    "```sql\n",
    "SELECT * FROM items\n",
    "WHERE \n",
    "    collection = 'amazing' AND\n",
    "    ST_Intersects(bbox, ST_MakeEnvelope(0, 0, 10, 10));\n",
    "```\n",
    "stac-fastapi-pgstac transforms the search results into the format expected in the API response and return it to the user. If you want to see how the actual SQL queries look in `pgstac`, check out the [pgstac source code](https://github.com/stac-utils/pgstac/tree/main/src/pgstac/sql).\n",
    "\n",
    "### 3.1.1 Customization\n",
    "There are several options in the default stac-fastapi-pgstac application that are configurable at run time via environment variables (using [pydantic's settings features](https://docs.pydantic.dev/latest/concepts/pydantic_settings/)):\n",
    "- the `ENABLED_EXTENSIONS` environment variable controls which extensions are enabled\n",
    "- `pgstac` database credentials are set by `POSTGRES_*` environment variables ([source](https://github.com/stac-utils/stac-fastapi-pgstac/blob/main/stac_fastapi/pgstac/config.py))\n",
    "- take a look at [stac_fastapi/pgstac/config.py](https://github.com/stac-utils/stac-fastapi-pgstac/blob/main/stac_fastapi/pgstac/config.py) for the settings module.\n",
    "\n",
    "Any other modifications to the default application will require a custom runtime in your eoAPI deployment. If you do this you will need to provide the full custom runtime (application code and handler) via a Dockerfile. Check out [eoapi-devseed](https://github.com/developmentseed/eoapi-devseed) for an example of building custom runtimes for eoAPI services.\n",
    "\n",
    "### 3.1.2 Authentication\n",
    "stac-fastapi-pgstac does not contain any authentication mechanism out-of-the-box, meaning your STAC API will be accessible to anyone if it is deployed to a public web address. If you want to make your STAC API accessible only with a username/password or token, check out the [FastAPI docs](https://fastapi.tiangolo.com/tutorial/security) for examples of how to add them to the application in a custom runtime.\n",
    "\n",
    "There is a new project called [stac-auth-proxy](https://github.com/developmentseed/stac-auth-proxy) that can provide fine-grained access controls to a STAC API by adding a proxy layer between users and the actual STAC API.\n",
    "\n",
    "### 3.1.3 STAC API interface\n",
    "Once your STAC API is up and running, its capabilities will be described in the `/conformance` endpoint response:"
   ]
  },
  {
   "cell_type": "code",
   "execution_count": null,
   "id": "3d4e7fe4-c21b-45c8-a56c-9b649f9f4924",
   "metadata": {},
   "outputs": [],
   "source": [
    "import json\n",
    "import os\n",
    "\n",
    "import httpx\n",
    "\n",
    "stac_api_endpoint = os.getenv(\"STAC_API_ENDPOINT\")\n",
    "\n",
    "conformance_response = httpx.get(f\"{stac_api_endpoint}/conformance\").json()\n",
    "\n",
    "print(json.dumps(conformance_response, indent=2))"
   ]
  },
  {
   "cell_type": "markdown",
   "id": "94af52ad-87b1-461c-8d74-fc0158e488e5",
   "metadata": {},
   "source": [
    "The result is hard (for a human) to read, but these conformance classes help client applications (like `pystac-client` or STAC Browser) understand the API's capabilities. The list will change as you enable/disable various extensions or endpoints.\n",
    "\n",
    "<div class=\"alert alert-block alert-info\">\n",
    "<b>Note:</b> If you visit the urls listed in the conformance classes you may get a 404 - this is expected\n",
    "</div>"
   ]
  },
  {
   "cell_type": "markdown",
   "id": "09e419d9-42e8-4b4b-9fdc-8d118bcc87c1",
   "metadata": {},
   "source": [
    "## 3.2 Collections\n",
    "\n",
    "The `/collections` endpoint is useful for finding collections in the catalog. To retrieve all collections in the catalog you can simply send a GET request to the `/collections` endpoint. This will return a paginated list (length of each page is set by the `limit` parameter) of all of the collections in the catalog."
   ]
  },
  {
   "cell_type": "code",
   "execution_count": null,
   "id": "ca0033ed-4898-4c21-8aa9-aaf79fc8d570",
   "metadata": {
    "scrolled": true
   },
   "outputs": [],
   "source": [
    "collections_response = httpx.get(\n",
    "    f\"{stac_api_endpoint}/collections\", params={\"limit\": 2}\n",
    ").json()\n",
    "\n",
    "print(json.dumps(collections_response, indent=2))"
   ]
  },
  {
   "cell_type": "markdown",
   "id": "ad74c861-7b4b-491e-9e17-82bcafd1cec4",
   "metadata": {},
   "source": [
    "You can retrieve all of a catalog's collection using the `get_all_collections` method from `pystac-client`:"
   ]
  },
  {
   "cell_type": "code",
   "execution_count": null,
   "id": "48664f4b-453d-47b8-9e3b-24a13c11cfcd",
   "metadata": {},
   "outputs": [],
   "source": [
    "import pystac_client\n",
    "\n",
    "client = pystac_client.Client.open(stac_api_endpoint)\n",
    "\n",
    "collections = list(client.get_all_collections())\n",
    "for collection in collections:\n",
    "    print(collection.id)"
   ]
  },
  {
   "cell_type": "markdown",
   "id": "c066ffe0-5506-4268-be8b-26329b4e70fd",
   "metadata": {},
   "source": [
    "Some APIs contain many many collections so, if the `collection-search` extension is enabled, it can be helpful to apply filters using the available query parameters like:\n",
    "- `q`: free-text search parameter\n",
    "- `datetime`: temporal filters\n",
    "- `bbox`: spatial filters\n",
    "- `filter`: cql2-text filters\n",
    "\n",
    "To check if any STAC API has the `collection-search` extension enabled, you can look for it in the `/conformance` endpoint response."
   ]
  },
  {
   "cell_type": "code",
   "execution_count": null,
   "id": "6a463071-ade7-4baf-bba5-500a9304d145",
   "metadata": {
    "scrolled": true
   },
   "outputs": [],
   "source": [
    "for conformance_class in conformance_response[\"conformsTo\"]:\n",
    "    if \"collection-search\" in conformance_class:\n",
    "        print(conformance_class)"
   ]
  },
  {
   "cell_type": "markdown",
   "id": "b03ff54f-0548-443c-86f0-1f064f3fe7cf",
   "metadata": {},
   "source": [
    "Since the `collection-search` base conformance class is listed that means we can pass the `bbox` and `datetime` parameters to the `/collections` endpoint. Additional parameters are unlocked by the various extensions that are implemented alongside the `collection-search` extension. For example, you can also see `https://api.stacspec.org/v1.0.0-rc.1/collection-search#filter` which means we can use the `filter` parameter in requests to the `/collections` endpoint!\n",
    "\n",
    "<div class=\"alert alert-block alert-info\">\n",
    "stac-fastapi-pgstac ships with the `collection-search` extension paired with the `free-text` extension which enables simple text searches against the collection title, description, and keywords fields.\n",
    "</div>\n",
    "\n",
    "For a nice view of the available query parameters for the `/collections` endpoint, check out the spiffy API documentation that the `stac-fastapi-pgstac` application generates using `FastAPI`."
   ]
  },
  {
   "cell_type": "code",
   "execution_count": null,
   "id": "8201551a-b51d-4ee5-b238-4fd79547afe1",
   "metadata": {},
   "outputs": [],
   "source": [
    "from IPython.display import IFrame\n",
    "\n",
    "local_stac_api_endpoint = stac_api_endpoint.replace(\"stac-fastapi\", \"localhost\")\n",
    "\n",
    "IFrame(\n",
    "    f\"{local_stac_api_endpoint}/api.html#/default/Get_Collections_collections_get\",\n",
    "    1200,\n",
    "    800,\n",
    ")"
   ]
  },
  {
   "cell_type": "markdown",
   "id": "5a9f5c87-ef5b-49d3-b6b8-e8fdca6cef1e",
   "metadata": {},
   "source": [
    "Try applying the `filter` parameter to do a cql2-text query on the id field to find the collection you created in the `database` exercies.\n",
    "\n",
    "<div class=\"alert alert-block alert-info\">\n",
    "<b>Tip:</b> Try out the CQL2 Playground to learn how to write cql2-text or cql2-json queries\n",
    "</div>\n",
    "\n",
    "<https://developmentseed.org/cql2-rs/latest/playground/>"
   ]
  },
  {
   "cell_type": "code",
   "execution_count": null,
   "id": "30844f03-1834-4e93-9494-a59abdc4f651",
   "metadata": {},
   "outputs": [],
   "source": [
    "import ipywidgets as widgets\n",
    "from IPython.display import display\n",
    "\n",
    "username_input = widgets.Text(\n",
    "    value=\"hrodmn\",\n",
    "    placeholder=\"Enter your username\",\n",
    "    description=\"username:\",\n",
    "    disabled=False,\n",
    ")\n",
    "\n",
    "display(username_input)"
   ]
  },
  {
   "cell_type": "code",
   "execution_count": null,
   "id": "8d9d740d-1e2d-45c4-8fcc-1c7cb31a19cc",
   "metadata": {},
   "outputs": [],
   "source": [
    "# using pystac-client\n",
    "my_collection_search = client.collection_search(\n",
    "    filter=f\"id LIKE '%{username_input.value}%'\"\n",
    ")\n",
    "\n",
    "results = my_collection_search.collection_list()\n",
    "\n",
    "if results:\n",
    "    my_collection = results[0]\n",
    "    display(my_collection)"
   ]
  },
  {
   "cell_type": "markdown",
   "id": "1d7fe9b0-f05c-4e0b-a24a-e8040b9d09c4",
   "metadata": {},
   "source": [
    "<div class=\"alert alert-block alert-info\">\n",
    "<b>Note:</b> If your collection did not appear, try adjusting your collection search terms!\n",
    "</div>"
   ]
  },
  {
   "cell_type": "code",
   "execution_count": null,
   "id": "5f75438e-cca6-4447-b9cb-f3349ae04c76",
   "metadata": {
    "scrolled": true
   },
   "outputs": [],
   "source": [
    "# using http client\n",
    "print(\n",
    "    json.dumps(\n",
    "        httpx.get(\n",
    "            f\"{stac_api_endpoint}/collections\",\n",
    "            params={\"filter\": f\"id LIKE '%{username_input.value}%'\"},\n",
    "        ).json(),\n",
    "        indent=2,\n",
    "    )\n",
    ")"
   ]
  },
  {
   "cell_type": "markdown",
   "id": "7eae366c-977d-45af-bf19-275e67ee8058",
   "metadata": {},
   "source": [
    "Now that you found your collection, you have what you need to do an effective item search within your collection! "
   ]
  },
  {
   "cell_type": "markdown",
   "id": "56657240-5905-4ddf-a76a-afd2a28959b0",
   "metadata": {},
   "source": [
    "## 3.3 Items\n",
    "\n",
    "Once you have the collection ID there are several ways to perform an effective item search:\n",
    "- GET request to `/collections/{collection_id}/items`\n",
    "- GET or POST request to `/search`\n",
    "\n",
    "There are not any particular advantages to either approach unless you want to search for items using an intersection with a geometry in which case you should use a POST request to `/search` with the `intersects` parameter in the request body (instead of url-encoding a geojson!).\n",
    "\n",
    "Item search request responses will be returned in pages with `{limit}` results. If your search returns more than a single page of results, the next page will be retrievable via the `next` link in the list of `links`."
   ]
  },
  {
   "cell_type": "markdown",
   "id": "74d1fb0b-e830-4fb0-8619-f9cfd3019111",
   "metadata": {},
   "source": [
    "### 3.3.1 /search\n",
    "\n",
    "Use the `/search` endpoint to find all items in your collection with a timestamp after April 4, 2025"
   ]
  },
  {
   "cell_type": "code",
   "execution_count": null,
   "id": "e73a9ef7-d8f8-407d-965e-c549f112899c",
   "metadata": {},
   "outputs": [],
   "source": [
    "from datetime import datetime, timezone\n",
    "\n",
    "search = client.search(\n",
    "    collections=[my_collection.id],\n",
    "    datetime=[datetime(2025, 4, 4), None],\n",
    ")\n",
    "\n",
    "items = search.item_collection()\n",
    "\n",
    "print(f\"found {len(items)} items\")\n",
    "items[0]"
   ]
  },
  {
   "cell_type": "markdown",
   "id": "3e504a62-0c1e-4f00-aa54-e286252c493b",
   "metadata": {},
   "source": [
    "The same query can be made with an HTTP client:"
   ]
  },
  {
   "cell_type": "code",
   "execution_count": null,
   "id": "57405533-6bbf-402c-9b26-99b97ab234ec",
   "metadata": {
    "scrolled": true
   },
   "outputs": [],
   "source": [
    "datetime_string = datetime(2025, 4, 4, tzinfo=timezone.utc).isoformat()\n",
    "\n",
    "item_search_request = httpx.get(\n",
    "    f\"{stac_api_endpoint}/search\",\n",
    "    params={\n",
    "        \"collections\": my_collection.id,\n",
    "        \"datetime\": f\"{datetime_string}/..\",  # open interval from 2025-04-04 forward\n",
    "        \"limit\": 1,  # one result per page for brevity in this example\n",
    "    },\n",
    ")\n",
    "\n",
    "print(json.dumps(item_search_request.json(), indent=2))"
   ]
  },
  {
   "cell_type": "markdown",
   "id": "3625785f-8aca-4465-93bc-3c1370c0e2fb",
   "metadata": {},
   "source": [
    "stac-fastapi-pgstac constructs the `next` link using a token that it can pass to a `pgstac` query to retrieve the next page of results from this search. STAC API clients like `pystac-client` use these links to concatenate paginated results without any additional input from the user."
   ]
  },
  {
   "cell_type": "markdown",
   "id": "87cf6d06-94f7-4925-8652-79008ad0e0d3",
   "metadata": {},
   "source": [
    "Now limit the search to items where `eo:cloud_cover` is less than 10"
   ]
  },
  {
   "cell_type": "code",
   "execution_count": null,
   "id": "e117cea2-8bf2-49cf-9d36-aba3e709d819",
   "metadata": {},
   "outputs": [],
   "source": [
    "search = client.search(\n",
    "    collections=[my_collection.id],\n",
    "    filter={\n",
    "        \"op\": \"lt\",\n",
    "        \"args\": [\n",
    "            {\"property\": \"eo:cloud_cover\"},\n",
    "            10,\n",
    "        ],\n",
    "    },\n",
    "    max_items=10,\n",
    ")\n",
    "\n",
    "items = search.item_collection()\n",
    "\n",
    "print(f\"found {len(items)} items\")\n",
    "items[-1]"
   ]
  },
  {
   "cell_type": "markdown",
   "id": "61d01f82-94f8-4071-b398-2508bc84c56a",
   "metadata": {},
   "source": [
    "### 3.3.2 /collections/{collection_id}/items\n",
    "\n",
    "You can also run the same search but instead of passing `collections` as a query parameter you can include `collection_id` as a path parameter in the request URL itself. All of the other query parameters for the `/search` GET request will be available."
   ]
  },
  {
   "cell_type": "code",
   "execution_count": null,
   "id": "2bfec9f1-5bd6-4ea9-90bf-66a2ddf90f36",
   "metadata": {},
   "outputs": [],
   "source": [
    "datetime_string = datetime(2025, 4, 4, tzinfo=timezone.utc).isoformat()\n",
    "\n",
    "item_search_request = httpx.get(\n",
    "    f\"{stac_api_endpoint}/collections/{my_collection.id}/items\",\n",
    "    params={\n",
    "        \"datetime\": f\"{datetime_string}/..\",  # open interval from 2025-04-04 forward\n",
    "        \"limit\": 100,\n",
    "        \"filter\": \"eo:cloud_cover < 10\",  # less than 10% cloud cover\n",
    "    },\n",
    ")\n",
    "response = item_search_request.json()\n",
    "print(f\"found {len(response['features'])} items\")"
   ]
  },
  {
   "cell_type": "markdown",
   "id": "a1de0ea6-51b5-4b12-88e0-67c2d49012bb",
   "metadata": {},
   "source": [
    "### 3.3.3 /collections/{collection_id}/items/{item_id}\n",
    "\n",
    "To retrieve a specific item from the catalog, you can use the `/collections/{collection_id}/items/{item_id}` endpoint."
   ]
  },
  {
   "cell_type": "code",
   "execution_count": null,
   "id": "fc47ce1f-68ac-42f2-a9f3-becddb5e2683",
   "metadata": {
    "scrolled": true
   },
   "outputs": [],
   "source": [
    "item_id = response[\"features\"][0][\"id\"]\n",
    "item_request = httpx.get(\n",
    "    f\"{stac_api_endpoint}/collections/{my_collection.id}/items/{item_id}\"\n",
    ")\n",
    "print(json.dumps(item_request.json(), indent=2))"
   ]
  },
  {
   "cell_type": "markdown",
   "id": "13efb26d-e63e-45ed-ab55-5af00e77fbeb",
   "metadata": {},
   "source": [
    "`pystac-client` can do the same thing"
   ]
  },
  {
   "cell_type": "code",
   "execution_count": null,
   "id": "ba409044-3f40-4d53-9256-f21aaa4b9da0",
   "metadata": {},
   "outputs": [],
   "source": [
    "collection_client = client.get_collection(my_collection.id)\n",
    "\n",
    "collection_client.get_item(item_id)"
   ]
  },
  {
   "cell_type": "markdown",
   "id": "7795389e-2007-4e79-b1ef-a788ac259694",
   "metadata": {},
   "source": [
    "## Conclusion\n",
    "\n",
    "That's it! You have taken a full tour of the stac-fastapi-pgstac STAC API. Here is a look at the full API documentation for the deployed API:"
   ]
  },
  {
   "cell_type": "code",
   "execution_count": null,
   "id": "5972eaaf-d6b3-4bcf-b2fd-f7d451100581",
   "metadata": {},
   "outputs": [],
   "source": [
    "IFrame(f\"{local_stac_api_endpoint}/api.html\", 1200, 800)"
   ]
  }
 ],
 "metadata": {
  "kernelspec": {
   "display_name": "Python 3 (ipykernel)",
   "language": "python",
   "name": "python3"
  },
  "language_info": {
   "codemirror_mode": {
    "name": "ipython",
    "version": 3
   },
   "file_extension": ".py",
   "mimetype": "text/x-python",
   "name": "python",
   "nbconvert_exporter": "python",
   "pygments_lexer": "ipython3",
   "version": "3.12.3"
  }
 },
 "nbformat": 4,
 "nbformat_minor": 5
}