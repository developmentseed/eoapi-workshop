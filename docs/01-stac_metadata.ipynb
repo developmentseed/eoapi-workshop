{
 "cells": [
  {
   "cell_type": "markdown",
   "id": "6a734a55-1935-4c9b-a51f-758a285528c1",
   "metadata": {},
   "source": [
    "# 1. STAC metadata generation\n",
    "\n",
    "There are several ways to create STAC metadata. We will explore a few of those to give you a sense of the possibilities and provide guidance for your best options in several scenarios.\n",
    "\n",
    "Methods:\n",
    "- write JSON by hand\n",
    "- use `pystac` or `stac-pydantic`\n",
    "- use `rio-stac`\n",
    "- use a `stactools` package\n",
    "\n",
    "We will be using the [Sentinel-2 Cloud-Optimized GeoTIFFs collection on the AWS Open Data Registry](https://registry.opendata.aws/sentinel-2-l2a-cogs/) to explore STAC metadata.\n",
    "\n",
    "This particular collection is available in a STAC API maintained by Element 84: [earth-search.aws.element84.com/v1](earth-search.aws.element84.com/v1) but it is a great example to show the advantages of some of the tools that are available for this purpose.\n",
    "\n",
    "The files are stored as cloud-optimized geotiffs (COGs) in an S3 bucket in the us-west-2 region. Here is a look at the files available for a single granule. "
   ]
  },
  {
   "cell_type": "code",
   "execution_count": null,
   "id": "9d87e64d-f601-46ed-92e8-be11240c7697",
   "metadata": {},
   "outputs": [],
   "source": [
    "import boto3\n",
    "from botocore import UNSIGNED\n",
    "from botocore.client import Config\n",
    "\n",
    "region = \"us-west-2\"\n",
    "bucket_name = \"sentinel-cogs\"\n",
    "prefix = \"sentinel-s2-l2a-cogs/28/G/GV/2025/4/S2B_28GGV_20250417_0_L2A/\"\n",
    "\n",
    "s3 = boto3.client(\"s3\", region_name=region, config=Config(signature_version=UNSIGNED))\n",
    "s3_keys = []\n",
    "\n",
    "for page in s3.get_paginator(\"list_objects_v2\").paginate(\n",
    "    Bucket=bucket_name, Prefix=prefix\n",
    "):\n",
    "    if \"Contents\" in page:\n",
    "        s3_keys.extend([obj[\"Key\"] for obj in page[\"Contents\"]])\n",
    "\n",
    "s3_keys"
   ]
  },
  {
   "cell_type": "markdown",
   "id": "5c549845-7e77-4ea4-9b13-6d9024f30f75",
   "metadata": {},
   "source": [
    "Since these files are publicly available in S3, let's convert the S3 URIs to https URLs to make it easier for clients to use them later:"
   ]
  },
  {
   "cell_type": "code",
   "execution_count": null,
   "id": "95bfdf44-1425-4ffe-88ba-1f9049119a63",
   "metadata": {},
   "outputs": [],
   "source": [
    "from pathlib import Path\n",
    "\n",
    "\n",
    "urls = {\n",
    "    Path(key).stem: f\"https://{bucket_name}.s3.{region}.amazonaws.com/{key}\"\n",
    "    for key in s3_keys\n",
    "}\n",
    "urls"
   ]
  },
  {
   "cell_type": "markdown",
   "id": "0d65d2b2-f678-41f4-a683-e3372fa99ab5",
   "metadata": {},
   "source": [
    "We can infer some details about the files from the path but we have to make a few assumptions!\n",
    "- sensor: Sentinel-2B\n",
    "- MGRS tile: 28GGV\n",
    "- date: 20250417\n",
    "\n",
    "In theory you could figure out which granule covers a specific area of interest on a particular date, but it would require a bunch of S3 path listing and filtering.\n",
    "There are probably software tools that do this kind of thing to locate Sentinel-2 files, but fortunately there is a better way: STAC!"
   ]
  },
  {
   "cell_type": "markdown",
   "id": "7139bab8-db8e-45b6-929f-418193eaf054",
   "metadata": {},
   "source": [
    "### 1.1 Writing STAC \"by hand\"\n",
    "\n",
    "Let's try creating the bare minimum STAC item by writing a Python dictionary by hand. We can verify that it is valid by loading it with `pystac` when we are done.\n",
    "\n",
    "Start by figuring out the extent and CRS of one of the raster files:"
   ]
  },
  {
   "cell_type": "code",
   "execution_count": null,
   "id": "1c97f76b-f570-4979-8455-fe6b89da0d82",
   "metadata": {},
   "outputs": [],
   "source": [
    "import rasterio\n",
    "\n",
    "with rasterio.open(urls[\"B02\"]) as src:\n",
    "    crs = src.crs\n",
    "    bounds = src.bounds\n",
    "    shape = src.shape\n",
    "\n",
    "print(crs, bounds, shape)"
   ]
  },
  {
   "cell_type": "markdown",
   "id": "dfb06158-649b-492f-96d3-fd5bc66626ff",
   "metadata": {},
   "source": [
    "To create the bare minimum STAC item, we only need to populate a few fields (and a few constants like `type` and `stac_version`):\n",
    "  - id: unique identifier for the item\n",
    "  - bbox: item bounding box coordinates (EPSG:4326)\n",
    "  - datetime: `YYYY-mm-ddTHH:MM:SSZ`\n",
    "  - assets: dictionary of assets with hrefs and media types"
   ]
  },
  {
   "cell_type": "code",
   "execution_count": null,
   "id": "e860db1e-f6be-4298-9371-c2c20acc56f4",
   "metadata": {},
   "outputs": [],
   "source": [
    "import json\n",
    "from pathlib import Path\n",
    "\n",
    "from rasterio.warp import transform_bounds\n",
    "from shapely.geometry import box, mapping\n",
    "\n",
    "bbox = transform_bounds(crs, \"epsg:4326\", *bounds)\n",
    "\n",
    "item_dict = {\n",
    "    \"type\": \"Feature\",\n",
    "    \"stac_version\": \"1.1.0\",\n",
    "    \"id\": \"S2B_28GGV_20250417_0_L2A\",\n",
    "    \"bbox\": bbox,\n",
    "    \"geometry\": mapping(box(*bbox)),\n",
    "    \"properties\": {\n",
    "        \"datetime\": \"2025-04-17T00:00:00Z\",\n",
    "    },\n",
    "    \"assets\": {\n",
    "        key: {\n",
    "            \"href\": url,\n",
    "            \"type\": \"image/tiff; application=geotiff; profile=cloud-optimized\",\n",
    "        }\n",
    "        for key, url in urls.items()\n",
    "        if url.endswith(\".tif\")\n",
    "    },\n",
    "}\n",
    "\n",
    "print(json.dumps(item_dict, indent=2))"
   ]
  },
  {
   "cell_type": "markdown",
   "id": "b5a7ad34-f4f5-49bd-a376-c66207cb783c",
   "metadata": {},
   "source": [
    "Great! We made a STAC item by hand. It is not verbose but it has all of the critical information that a client application would need to infer some details about the data without opening any tif files.\n",
    "\n",
    "Now let's validate it with our next tool: `pystac`"
   ]
  },
  {
   "cell_type": "code",
   "execution_count": null,
   "id": "ed94c7dc-82da-42fb-8a96-0e42bc6b2f80",
   "metadata": {},
   "outputs": [],
   "source": [
    "import pystac\n",
    "\n",
    "pystac.Item.from_dict(item_dict).validate()"
   ]
  },
  {
   "cell_type": "markdown",
   "id": "dc70d890-c7e2-45bc-bdc0-b1843e02aede",
   "metadata": {},
   "source": [
    "Item metadata is important but Collection metadata is also critical! We can create a bare-bones collection document like this:"
   ]
  },
  {
   "cell_type": "code",
   "execution_count": null,
   "id": "222f6df8-07d9-45a0-924c-bf45c4de9be2",
   "metadata": {},
   "outputs": [],
   "source": [
    "collection_dict = {\n",
    "    \"type\": \"Collection\",\n",
    "    \"stac_version\": \"1.1.0\",\n",
    "    \"id\": \"sentinel-2-l2a-cogs\",\n",
    "    \"description\": \"Sentinel-2 L2A cloud-optimized geotiffs\",\n",
    "    \"extent\": {\n",
    "        \"spatial\": {\"bbox\": [[-180, -90, 180, 90]]},\n",
    "        \"temporal\": {\"interval\": [[\"2015-06-27T10:25:31.456000Z\", None]]},\n",
    "    },\n",
    "    \"links\": [],\n",
    "    \"license\": \"proprietary\",\n",
    "}\n",
    "\n",
    "pystac.Collection.from_dict(collection_dict)"
   ]
  },
  {
   "cell_type": "markdown",
   "id": "a430e6c6-386a-42bf-b2d4-70a046a7d851",
   "metadata": {},
   "source": [
    "### 1.2 Using `pystac` to write STAC\n",
    "\n",
    "Writing STAC JSON by hand can be hard especially when you want to use some of the more advanced features of STAC metadata. Creating STAC items with `pystac` is a bit more ergonomic than specifying the structure by hand because you can get type hints on all of the possible fields and can take advantage of pre-defined constants (like `pystac.MediaType.COG`) instead of trying to remember the actual values. Plus, you will be forced to populate all of the required fields from the STAC spec which can help you avoid heartburn induced by invalid STAC items."
   ]
  },
  {
   "cell_type": "code",
   "execution_count": null,
   "id": "d5cae1c9-c499-4f41-a368-0c5c8b2ea4f4",
   "metadata": {},
   "outputs": [],
   "source": [
    "from datetime import datetime\n",
    "\n",
    "item = pystac.Item(\n",
    "    id=\"S2B_28GGV_20250417_0_L2A\",\n",
    "    bbox=bbox,\n",
    "    geometry=mapping(box(*bbox)),\n",
    "    datetime=datetime(2025, 4, 17),\n",
    "    properties={},\n",
    "    assets={\n",
    "        key: pystac.Asset(\n",
    "            href=url,\n",
    "            media_type=pystac.MediaType.COG,\n",
    "        )\n",
    "        for key, url in urls.items()\n",
    "        if url.endswith(\".tif\")\n",
    "    },\n",
    ")\n",
    "\n",
    "item"
   ]
  },
  {
   "cell_type": "markdown",
   "id": "f192bec5-7458-494f-aa89-543c6dd3e43b",
   "metadata": {},
   "source": [
    "That was a little easier, but client applications would appreciate a bit more information to the item like the projection of the files! We could have added this in the \"by hand\" example, too, but it would have been a multi-step process updating the list of `stac_extensions` and the `proj` properties. `pystac` handles these for us in one step."
   ]
  },
  {
   "cell_type": "code",
   "execution_count": null,
   "id": "6158e057-f770-4599-82c3-89ef5cc00a7d",
   "metadata": {},
   "outputs": [],
   "source": [
    "item.ext.add(\"proj\")\n",
    "\n",
    "item.ext.proj.apply(\n",
    "    epsg=crs.to_epsg(),\n",
    "    bbox=bounds,\n",
    "    shape=shape,\n",
    ")\n",
    "\n",
    "item"
   ]
  },
  {
   "cell_type": "markdown",
   "id": "f25280ff-7dd7-4997-b53e-0f980035c204",
   "metadata": {},
   "source": [
    "Now you can create the same collection object that we made by hand but this time using `pystac`:"
   ]
  },
  {
   "cell_type": "code",
   "execution_count": null,
   "id": "4ecd03a2-7761-4f4f-9c96-db7e9ff1df2b",
   "metadata": {},
   "outputs": [],
   "source": [
    "collection = pystac.Collection(\n",
    "    id=\"sentinel-2-l2a-cogs\",\n",
    "    description=\"Sentinel-2 L2A cloud-optimized geotiffs\",\n",
    "    extent=pystac.Extent(\n",
    "        spatial=pystac.SpatialExtent([[-180, -90, 180, 90]]),\n",
    "        temporal=pystac.TemporalExtent(\n",
    "            [[datetime(2015, 6, 27, hour=10, minute=25, second=31), None]]\n",
    "        ),\n",
    "    ),\n",
    ")\n",
    "collection"
   ]
  },
  {
   "cell_type": "markdown",
   "id": "2e419a45-661e-4a59-8e04-699079ce5154",
   "metadata": {},
   "source": [
    "### 1.3 Writing STAC with `rio-stac`\n",
    "\n",
    "`rio-stac` does some of the work that we had to do to calculate the bounding box, geometry, etc for you. It will be slower than infering properties from the storage path schema or some existing metadata file, but it will reliably read the extent/geometry/etc from the actual assets which can be valuable.\n",
    "\n",
    "- rio-stac docs: <https://developmentseed.org/rio-stac/>"
   ]
  },
  {
   "cell_type": "code",
   "execution_count": null,
   "id": "ca0ba117-37a6-4c76-8c23-5fc26f8ad6ca",
   "metadata": {
    "scrolled": true
   },
   "outputs": [],
   "source": [
    "from rio_stac.stac import create_stac_item\n",
    "\n",
    "item = create_stac_item(\n",
    "    source=urls[\"B02\"],\n",
    "    input_datetime=datetime(2025, 4, 17),\n",
    "    id=\"S2B_28GGV_20250417_0_L2A\",\n",
    "    with_proj=True,\n",
    "    with_eo=False,\n",
    "    assets={\n",
    "        key: pystac.Asset(\n",
    "            href=url,\n",
    "            media_type=pystac.MediaType.COG,\n",
    "        )\n",
    "        for key, url in urls.items()\n",
    "        if url.endswith(\".tif\")\n",
    "    },\n",
    ")\n",
    "\n",
    "item"
   ]
  },
  {
   "cell_type": "markdown",
   "id": "2a8567de-5744-434e-8433-d3be0ed87ffe",
   "metadata": {},
   "source": [
    "That was nice an easy! I didn't have to use `rasterio` for anything myself, `rio-stac` took care of that for me. There are more tools in `rio-stac` which can be used to derive metadata for more extensions (like `eo`) so check out the docs!\n",
    "\n",
    "There are not any collection generation convenience functions in `rio-stac` so that's all for this section."
   ]
  },
  {
   "cell_type": "markdown",
   "id": "d2bee875-cc74-42ba-8e90-42a1fd5d11fb",
   "metadata": {},
   "source": [
    "### 1.4 Writing STAC with `stactools` packages\n",
    "\n",
    "You may have been thinking \"surely someone has already done the work to sort out the STAC metadata configuration for the Sentinel 2 dataset\". You are right! Sometimes the data providers or the community will produce STAC metadata alongside the data and the most common method for publishing the STAC metadata generation workflow is via [`stactools` packages](https://github.com/stactools-packages).\n",
    "\n",
    "Many datasets/collections have a package that can be used from python or a CLI to generate collection and item STAC metadata, including Sentinel-2. At this time the [`stactools-sentinel2`](https://github.com/stactools-packages/sentinel2) package is not configured for the files that we have been working with so far in this notebook so we will reference files in a different bucket for this section."
   ]
  },
  {
   "cell_type": "code",
   "execution_count": null,
   "id": "969ce7ed-536f-43a0-a5a2-620c21bae7e8",
   "metadata": {},
   "outputs": [],
   "source": [
    "from stactools.sentinel2.stac import create_item as create_sentinel2_item\n",
    "\n",
    "\n",
    "item = create_sentinel2_item(\n",
    "    granule_href=\"https://roda.sentinel-hub.com/sentinel-s2-l2a/tiles/34/L/BP/2022/4/1/0/\",\n",
    ")\n",
    "\n",
    "item"
   ]
  },
  {
   "cell_type": "markdown",
   "id": "9c8b702d-3d8a-41e8-80af-09d9b56dbd0f",
   "metadata": {},
   "source": [
    "## Conclusion\n",
    "\n",
    "That's it! You have seen a few ways of creating STAC metadata. There is a time and a place for each of these methods so keep them all in mind when considering the best path for cataloging your data."
   ]
  }
 ],
 "metadata": {
  "kernelspec": {
   "display_name": "Python 3 (ipykernel)",
   "language": "python",
   "name": "python3"
  },
  "language_info": {
   "codemirror_mode": {
    "name": "ipython",
    "version": 3
   },
   "file_extension": ".py",
   "mimetype": "text/x-python",
   "name": "python",
   "nbconvert_exporter": "python",
   "pygments_lexer": "ipython3",
   "version": "3.12.12"
  }
 },
 "nbformat": 4,
 "nbformat_minor": 5
}
