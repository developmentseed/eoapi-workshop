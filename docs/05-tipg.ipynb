{
 "cells": [
  {
   "cell_type": "markdown",
   "id": "416f1814-d6af-4a4e-8217-33fddc226f95",
   "metadata": {},
   "source": [
    "# 5. The Vector API: tipg\n",
    "\n",
    "<https://developmentseed.org/tipg>\n",
    "\n",
    "No geospatial data stack is complete without a mechanism for serving vector features as GeoJSON or for consumption in web maps as vector tiles. **tipg** is the component that fills that niche in eoAPI.\n",
    "\n",
    "From the tipg README:\n",
    "> `tipg`, pronounced *T[ee]pg*, is a **Python** package that helps create lightweight OGC **Features** and **Tiles** API with a PostGIS Database backend. The API has been designed for [OGC Features](https://ogcapi.ogc.org/features) and [OGC Tiles](https://ogcapi.ogc.org/tiles/) specifications.\n",
    "\n",
    "In addition to serving existing features from a pre-defined set of tables in a PostGIS-enabled PostgreSQL database, it can serve features from custom views defined in user-defined PostgreSQL functions."
   ]
  },
  {
   "cell_type": "markdown",
   "id": "c3506c50-f4bd-45c4-bce7-b9336f3a41e7",
   "metadata": {},
   "source": [
    "## 5.1 Configuration\n",
    "\n",
    "In an eoAPI stack, tipg can be connected to any PostgreSQL database including the existing pgstac database. This is controlled by the `POSTGRES_*` environment variables in the application runtime.\n",
    "\n",
    "When deploying tipg, you can specify which schemas in your database will be exposed to the tipg API. This is controlled by the `TIPG_DB_SCHEMAS` environment variable.\n",
    "\n",
    "For the workshop we have created a schema in the pgstac database called `features` that you will be working with. To expose this schema to tipg we set `TIPG_DB_SCHEMAS=[\"features\"]` in the application runtime (see line 178 in [infrastructure/app.py](../infrastructure/app.py)). There is one table that has been pre-loaded (`features.ecoregions`) for the examples in this notebook.\n",
    "\n",
    "### Additional resources:\n",
    "- tipg configuration docs: <https://developmentseed.org/tipg/user_guide/configuration>"
   ]
  },
  {
   "cell_type": "markdown",
   "id": "45ac9635-b646-44f7-89c7-d6e3c20c5264",
   "metadata": {},
   "source": [
    "## 5.2 OGC API - Features\n",
    "tipg contains an OGC Features API that is interoperable with many existing applications.\n",
    "\n",
    "<https://ogcapi.ogc.org/features/overview.html>\n",
    "\n",
    "Each table in the PostgreSQL schema represents a single collection. The list of collections available to tipg can be obtained with a GET request to the `/collections` endpoint"
   ]
  },
  {
   "cell_type": "code",
   "execution_count": null,
   "id": "25e1b941-7abd-43c5-a8fc-5a298a3edb4c",
   "metadata": {},
   "outputs": [],
   "source": [
    "import json\n",
    "import os\n",
    "\n",
    "import httpx\n",
    "\n",
    "os.environ.update(\n",
    "    {\n",
    "        \"AWS_NO_SIGN_REQUEST\": \"TRUE\",\n",
    "        \"STAC_API_ENDPOINT\": \"https://sfa4ewlibf.execute-api.us-west-2.amazonaws.com\",\n",
    "        \"TITILER_PGSTAC_API_ENDPOINT\": \"https://gboslqvxy3.execute-api.us-west-2.amazonaws.com\",\n",
    "        \"TIPG_API_ENDPOINT\": \"https://2pd90x0reb.execute-api.us-west-2.amazonaws.com\",\n",
    "        \"GIST_URL\": \"https://gist.githubusercontent.com/hrodmn/02ed728bbcf455a2861db0e6e1fbbfe8/raw/0331483d0f7ecbea75b1aab75ecb04a9ef76ba9c/mngislis.json\",\n",
    "    }\n",
    ")\n",
    "\n",
    "tipg_endpoint = os.getenv(\"TIPG_API_ENDPOINT\")\n",
    "\n",
    "collections_request = httpx.get(f\"{tipg_endpoint}/collections\")\n",
    "\n",
    "print(json.dumps(collections_request.json(), indent=2))"
   ]
  },
  {
   "cell_type": "markdown",
   "id": "c867ca53-2cf2-4584-a6bc-28930c1be953",
   "metadata": {},
   "source": [
    "Each collection has a set of links associated with it including:\n",
    "- `/collections/{collection_id}/queryables`: describes the fields that can be used for filtering features\n",
    "- `/collections/{collection_id}/items`: where features can be accessed\n",
    "- `/collections/{collection_id}/tiles`: list of tile matrix set IDs that are available for tile requests\n",
    "- `/collections/{collection_id}/tiles/{tileMatrixSetId}`: returns a tilejson for a vector tile layer\n",
    "- `/collections/{collection_id}/tiles/{tileMatrixSetId}/viewer`: interactive map of the collection\n",
    "\n",
    "The `/items`, `/tiles/{tileMatrixSetId}`, and `/tiles/{tileMatrixSetId}/viewer` endpoints will all accept field filters in the form of `{queryable}={value}` where `queryable` is one of the fields listed in the `/queryables` response for that collection."
   ]
  },
  {
   "cell_type": "markdown",
   "id": "1961c2fd-9e02-47ef-a63e-1832b9ce0546",
   "metadata": {},
   "source": [
    "### 5.2.2 /collections/{collection_id/queryables\n",
    "\n",
    "The `/queryables` endpoint returns a list of fields that can be used to filter features in requests for a collection:"
   ]
  },
  {
   "cell_type": "code",
   "execution_count": null,
   "id": "bcf33106-51c5-49b2-9324-743362ec3af2",
   "metadata": {
    "scrolled": true
   },
   "outputs": [],
   "source": [
    "collection_id = \"features.ecoregions\"\n",
    "\n",
    "queryables_request = httpx.get(\n",
    "    f\"{tipg_endpoint}/collections/{collection_id}/queryables\"\n",
    ")\n",
    "\n",
    "print(json.dumps(queryables_request.json(), indent=2))"
   ]
  },
  {
   "cell_type": "markdown",
   "id": "ae165899-69b5-403f-b15f-116e42bd1cd1",
   "metadata": {},
   "source": [
    "### 5.2.2 /collections/{collection_id}/items\n",
    "\n",
    "The `/items` endpoint for a collection can be used to retrieve paginated lists of features in a number of formats:\n",
    "  - GeoJSON\n",
    "  - CSV\n",
    "  - JSON\n",
    "  - GeoJSON Sequence\n",
    "  - NDJSON (new-line-delimited JSON)\n",
    "  - HTML (for viewing in a browser)\n",
    "\n",
    "[source](https://github.com/developmentseed/tipg/blob/1a2e5eb6816d51f97ae1d5bbc1d1e952d996987b/tipg/factory.py#L757-L762)\n",
    "\n",
    "Try retrieving a page of results from the `features.terrestrial_ecoregions` collection. This will return a GeoJSON FeatureCollection with two features (`limit=2`):"
   ]
  },
  {
   "cell_type": "code",
   "execution_count": null,
   "id": "0be96e36-956a-4486-aea1-d09314b2b49b",
   "metadata": {
    "scrolled": true
   },
   "outputs": [],
   "source": [
    "geojson_request = httpx.get(\n",
    "    f\"{tipg_endpoint}/collections/{collection_id}/items\",\n",
    "    params={\"f\": \"geojson\", \"limit\": 2},\n",
    ")\n",
    "geojson_response = geojson_request.json()\n",
    "print(json.dumps(geojson_response, indent=2))"
   ]
  },
  {
   "cell_type": "markdown",
   "id": "fb774d33-1fe4-47be-93f4-1a794a2e2f7a",
   "metadata": {},
   "source": [
    "You can request a sequence of GeoJSON features separated by new lines with `f=geojsonseq`"
   ]
  },
  {
   "cell_type": "code",
   "execution_count": null,
   "id": "fe8eb885-daf7-4d70-bc3d-579cc544c399",
   "metadata": {},
   "outputs": [],
   "source": [
    "geojsonseq_request = httpx.get(\n",
    "    f\"{tipg_endpoint}/collections/{collection_id}/items\",\n",
    "    params={\"f\": \"geojsonseq\", \"limit\": 2},\n",
    ")\n",
    "\n",
    "print(geojsonseq_request.text)"
   ]
  },
  {
   "cell_type": "markdown",
   "id": "a17c0497-511a-4b7e-9b92-84b0e23dd24b",
   "metadata": {},
   "source": [
    "You can apply a filter using the fields returned in the `/queryables` endpoint for a collection:"
   ]
  },
  {
   "cell_type": "code",
   "execution_count": null,
   "id": "9b1271eb-d653-4452-a4f1-c0f178305c9d",
   "metadata": {},
   "outputs": [],
   "source": [
    "filtered_request = httpx.get(\n",
    "    f\"{tipg_endpoint}/collections/{collection_id}/items\",\n",
    "    params={\n",
    "        \"na_l2name\": \"MEDITERRANEAN CALIFORNIA\",\n",
    "        \"f\": \"geojson\",\n",
    "        \"limit\": 2,\n",
    "    },\n",
    ")\n",
    "\n",
    "filtered_response = filtered_request.json()\n",
    "print(\n",
    "    f\"{filtered_response['numberMatched']} features match this filtered request\",\n",
    "    f\"out of {geojson_response['numberMatched']} features in the entire collection\",\n",
    ")"
   ]
  },
  {
   "cell_type": "markdown",
   "id": "25f60170-0b5d-4835-a81c-4459feee212a",
   "metadata": {},
   "source": [
    "In addition to field-based filters, you can use other standard filter mechanisms:\n",
    "- `ids`: limit to a comma-separated list of feature ids\n",
    "- `bbox`: filter by bounding box\n",
    "- `datetime`: filter by datetime (use with `datetime-column` parameter)\n",
    "- `filter`: apply a CQL2 filter (use with `filter-lang` parameter set to cql2-text or cql2-json) for more complex filter operations"
   ]
  },
  {
   "cell_type": "code",
   "execution_count": null,
   "id": "2aafc321-ae06-469e-91ea-63c53ebb0733",
   "metadata": {},
   "outputs": [],
   "source": [
    "# filter by bounding box\n",
    "bbox_filtered_request = httpx.get(\n",
    "    f\"{tipg_endpoint}/collections/{collection_id}/items\",\n",
    "    params={\"bbox\": \"-77,39,-76,40\", \"f\": \"geojson\", \"limit\": 2},\n",
    ")\n",
    "\n",
    "bbox_filtered_response = bbox_filtered_request.json()\n",
    "print(\n",
    "    f\"{bbox_filtered_response['numberMatched']} features match this filtered request\",\n",
    "    f\"out of {geojson_response['numberMatched']} features in the entire collection\",\n",
    ")"
   ]
  },
  {
   "cell_type": "markdown",
   "id": "bdb2a8c2-94f4-4064-9cc9-1275fe22c053",
   "metadata": {},
   "source": [
    "tipg also comes with a convenient HTML response type which makes it possible to interact with the endpoints in your browser. The returned geojson features from a `/items` request will be displayed in a map!"
   ]
  },
  {
   "cell_type": "code",
   "execution_count": null,
   "id": "7be40619-e4e4-4211-ad5b-303a82834a70",
   "metadata": {},
   "outputs": [],
   "source": [
    "from IPython.display import IFrame\n",
    "\n",
    "bbox_filtered_request = httpx.get(\n",
    "    f\"{tipg_endpoint}/collections/{collection_id}/items\",\n",
    "    params={\n",
    "        \"bbox\": \"-77,39,-76,40\",\n",
    "        \"f\": \"html\",\n",
    "    },\n",
    ")\n",
    "\n",
    "local_url = str(bbox_filtered_request.url).replace(\"tipg\", \"localhost\")\n",
    "\n",
    "IFrame(\n",
    "    local_url,\n",
    "    width=1200,\n",
    "    height=800,\n",
    ")"
   ]
  },
  {
   "cell_type": "markdown",
   "id": "8a13692f-e964-4f14-b206-d4ff8da5035d",
   "metadata": {},
   "source": [
    "Here is a view of the full API docs for the `/collections/{collection_id}/items` endpoint:"
   ]
  },
  {
   "cell_type": "code",
   "execution_count": null,
   "id": "9eb89183-7cf6-482d-aabf-8066a141928f",
   "metadata": {},
   "outputs": [],
   "source": [
    "local_tipg_endpoint = tipg_endpoint.replace(\"tipg\", \"localhost\")\n",
    "IFrame(\n",
    "    f\"{local_tipg_endpoint}/api.html#OGC Features API/items_collections__collectionId__items_get\",\n",
    "    width=1200,\n",
    "    height=800,\n",
    ")"
   ]
  },
  {
   "cell_type": "markdown",
   "id": "fa9c7359-4502-4c4a-95ab-96e1e4c77e46",
   "metadata": {},
   "source": [
    "## 5.3 OGC API - Tiles\n",
    "\n",
    "tipg also serves an OGC Tiles API for vector tiles.\n",
    "\n",
    "<https://ogcapi.ogc.org/tiles/>\n",
    "\n",
    "The Tiles API works exactly like the Features API but instead of taking requests for entire features it accepts requests for XYZ vector tiles that are very useful for streaming vector data into map client applications. This is useful because it will becomes impracticalimpossible to stream all of a collection's features into a map application as a geojson - tipg moves the simplification and filtering operations up to the PostGIS database and returns the minimum required data to the map client."
   ]
  },
  {
   "cell_type": "markdown",
   "id": "5c1595fd-48db-4bc3-bfb5-774025e001bf",
   "metadata": {},
   "source": [
    "### 5.3.1 /collections/{collection_id/tiles/{tileMatrixSetId}/tilejson.json\n",
    "\n",
    "The `tilejson` endpoint is the most useful for adding vector tile layers to a map application. The response contains information about the available fields (which can be used for styling the vector tiles), the full collection extent, and the XYZ tile url that can be loaded as a layer in a map."
   ]
  },
  {
   "cell_type": "code",
   "execution_count": null,
   "id": "962d67f3-95cd-410f-92a4-df6c343a26eb",
   "metadata": {},
   "outputs": [],
   "source": [
    "tilejson_request = httpx.get(\n",
    "    f\"{tipg_endpoint}/collections/{collection_id}/tiles/WebMercatorQuad/tilejson.json\",\n",
    ")\n",
    "tilejson_response = tilejson_request.json()\n",
    "print(json.dumps(tilejson_response, indent=2))"
   ]
  },
  {
   "cell_type": "markdown",
   "id": "f77155de-5c6f-470d-b2cc-293023d24f28",
   "metadata": {},
   "source": [
    "All of the same rules for queryables and query parameters from the `/items` endpoint apply to the `/tiles` endpoints, too. The query parameters will be tacked onto the end of the XYZ tile URL:"
   ]
  },
  {
   "cell_type": "code",
   "execution_count": null,
   "id": "628777c3-b633-45ec-b0f5-9d07f59cbe28",
   "metadata": {},
   "outputs": [],
   "source": [
    "filtered_tilejson_request = httpx.get(\n",
    "    f\"{tipg_endpoint}/collections/{collection_id}/tiles/WebMercatorQuad/tilejson.json\",\n",
    "    params={\n",
    "        \"eco_name\": \"Northern Mesoamerican Pacific mangroves\",\n",
    "    },\n",
    ")\n",
    "filtered_tilejson_response = filtered_tilejson_request.json()\n",
    "print(json.dumps(filtered_tilejson_response, indent=2))"
   ]
  },
  {
   "cell_type": "markdown",
   "id": "8aa43dd5-0e0b-4154-85b8-c582eea80678",
   "metadata": {},
   "source": [
    "### 5.3.1 /collections/{collection_id/tiles/{tileMatrixSetId}/viewer\n",
    "\n",
    "For a quick demonstration of how vector tiles enable visualization of massive feature collections, check out this map of the `terrestrial_ecoregions` table that lives in our database. It has 14,000+ features which we would never dream of downloading to view in a web map. Instead, we let our map client make requests for simplified features for each XYZ tile as we explore the map."
   ]
  },
  {
   "cell_type": "code",
   "execution_count": null,
   "id": "857f7870-4311-404b-8c88-640e89891e83",
   "metadata": {},
   "outputs": [],
   "source": [
    "viewer_request = httpx.get(\n",
    "    f\"{tipg_endpoint}/collections/{collection_id}/tiles/WebMercatorQuad/viewer\",\n",
    ")\n",
    "\n",
    "IFrame(\n",
    "    str(viewer_request.url).replace(\"tipg\", \"localhost\"),\n",
    "    width=1200,\n",
    "    height=800,\n",
    ")"
   ]
  },
  {
   "cell_type": "markdown",
   "id": "7f80150b-c92c-40dc-b83a-e90b13a25012",
   "metadata": {},
   "source": [
    "You can apply a field-based filter to limit the features to a subset of the full collection:"
   ]
  },
  {
   "cell_type": "code",
   "execution_count": null,
   "id": "d12d12ef-8b12-4c7a-b681-4aea02c44df5",
   "metadata": {},
   "outputs": [],
   "source": [
    "filtered_viewer_request = httpx.get(\n",
    "    f\"{tipg_endpoint}/collections/{collection_id}/tiles/WebMercatorQuad/viewer\",\n",
    "    params={\n",
    "        \"na_l2name\": \"MEDITERRANEAN CALIFORNIA\",\n",
    "    },\n",
    ")\n",
    "\n",
    "IFrame(\n",
    "    str(filtered_viewer_request.url).replace(\"tipg\", \"localhost\"),\n",
    "    width=1200,\n",
    "    height=800,\n",
    ")"
   ]
  }
 ],
 "metadata": {
  "kernelspec": {
   "display_name": "Python 3 (ipykernel)",
   "language": "python",
   "name": "python3"
  },
  "language_info": {
   "codemirror_mode": {
    "name": "ipython",
    "version": 3
   },
   "file_extension": ".py",
   "mimetype": "text/x-python",
   "name": "python",
   "nbconvert_exporter": "python",
   "pygments_lexer": "ipython3",
   "version": "3.12.3"
  }
 },
 "nbformat": 4,
 "nbformat_minor": 5
}
