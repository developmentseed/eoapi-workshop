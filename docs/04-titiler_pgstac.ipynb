{
 "cells": [
  {
   "cell_type": "markdown",
   "id": "f40e31ef-ea58-408b-a252-d74974df2e86",
   "metadata": {},
   "source": [
    "# 4. The Raster API: titiler-pgstac\n",
    "\n",
    "titiler-pgstac is the crown jewel of an eoAPI deployment. You can use titiler-pgstac to serve infinitely customizable visualizations of the data in your catalog with just a few lines of code.\n",
    "\n",
    "### Dynamic Tiling 101\n",
    "XYZ map tiles are the backbone of web mapping technology. Traditionally, the tile images are generated from the raw data and stored in cloud storage so they can be easily fetched by a map client in a web browser (or desktop GIS application). These tiles are called \"static\" tiles because they are generated once and cannot be adjusted unless you regenerate the tiles from the raw source.\n",
    "\n",
    "The static nature of pre-generated tiles is a problem for dynamic datasets like satellite imagery collections where there may be new data streaming in at all times. It is not efficient to be continually rebuilding static tiles for an entire collection when the data are constantly changing!\n",
    "\n",
    "**Dynamic tiling** provides a solution to this problem. Instead of pre-rendering all of the tile images for a dynamic dataset, dynamic tiling renders the images on-the-fly as they are requested by client applications! Dynamically rendered tile images will take longer to return to the client but, **if the raw data are stored in cloud-optimized data formats**, processing latency will be minimized and you gain the ability to request any visualization configuration (colormap, min/max, band math, expressions, etc).\n",
    "\n",
    "[titiler](https://developmentseed.org/titiler/) is the state-of-the-art in dynamic tiling. It can take an XYZ tile request, use rasterio/GDAL to read the portion of a data required to render the tile image, then return it to the requester as a .png (or whatever format is requested).\n",
    "\n",
    "[titiler-pgstac](https://stac-utils.github.io/titiler-pgstac/latest/) extends the core titiler functionality by providing a query interface for a `pgstac` database, allowing users to request visualizations of entire collections or mosaics of items that are in their STAC.\n",
    "\n",
    "To illustrate the power of titiler-pgstac, consider the following examples:\n",
    "1. You can create an interactive map with the most recent Sentinel-2 images from your STAC collection in just a few lines of code\n",
    "2. You can create an interacive map with the most recent **cloud-free** images from any period of time in the archive with 10 lines of code\n",
    "3. You can view natural color and false color composites of the imagery with one small change\n",
    "\n",
    "You can do all of this with titiler-pgstac with a single copy of the raw data in cloud storage!\n",
    "\n",
    "Start by entering the username you picked when defining your personal Sentinel-2 L2A collection:"
   ]
  },
  {
   "cell_type": "markdown",
   "id": "e4gazvf1d0k",
   "source": "# Workshop Setup\n\nRun this cell to configure your workshop environment. You'll be prompted to enter the workshop access token provided by your instructor.",
   "metadata": {}
  },
  {
   "cell_type": "code",
   "id": "ai19k4t108l",
   "source": "from workshop_setup import setup\n\n# This will prompt for your workshop token and configure environment variables\nconfig = setup()",
   "metadata": {},
   "execution_count": null,
   "outputs": []
  },
  {
   "cell_type": "code",
   "execution_count": null,
   "id": "97b26130-eef8-4fbc-a404-afe4e6942777",
   "metadata": {},
   "outputs": [],
   "source": [
    "import ipywidgets as widgets\n",
    "from IPython.display import display\n",
    "\n",
    "username_input = widgets.Text(\n",
    "    value=\"test\",\n",
    "    placeholder=\"Enter your username\",\n",
    "    description=\"username:\",\n",
    "    disabled=False,\n",
    ")\n",
    "\n",
    "display(username_input)"
   ]
  },
  {
   "cell_type": "code",
   "execution_count": null,
   "id": "68c9bd3b-ee40-4786-9a96-0f254c3a44d3",
   "metadata": {},
   "outputs": [],
   "source": [
    "import os\n",
    "\n",
    "from IPython.display import IFrame, Image\n",
    "\n",
    "titiler_pgstac_endpoint = os.getenv(\"TITILER_PGSTAC_API_ENDPOINT\")\n",
    "local_titiler_pgstac_endpoint = titiler_pgstac_endpoint.replace(\n",
    "    \"titiler-pgstac\", \"localhost\"\n",
    ")\n",
    "\n",
    "IFrame(\n",
    "    f\"{local_titiler_pgstac_endpoint}/api.html\",\n",
    "    1200,\n",
    "    800,\n",
    ")"
   ]
  },
  {
   "cell_type": "markdown",
   "id": "cbed93d9-ba99-4a67-8dcc-68c7d11ec183",
   "metadata": {},
   "source": [
    "## 4.1 /collections/{collection_id}\n",
    "Start out with the most basic titiler-pgstac request: RGB visualization of the most recent images in your Sentinel-2 STAC collection.\n",
    "\n",
    "To get a visualization of the red/green/blue band combination from your collection you need to tell titiler-pgstac which assets you want using the `assets` query parameter (multiple times in this case)."
   ]
  },
  {
   "cell_type": "code",
   "execution_count": null,
   "id": "37731b54-7e89-4000-8e26-5ed9f813117b",
   "metadata": {},
   "outputs": [],
   "source": [
    "import json\n",
    "from urllib.parse import urlencode\n",
    "\n",
    "import httpx\n",
    "\n",
    "collection_id = f\"{username_input.value}-sentinel-2-c1-l2a\"\n",
    "\n",
    "params = (\n",
    "    (\"assets\", \"red\"),\n",
    "    (\"assets\", \"green\"),\n",
    "    (\"assets\", \"blue\"),\n",
    "    (\"color_formula\", \"Gamma RGB 3.0 Saturation 1.2 Sigmoidal RGB 15 0.35\"),\n",
    ")"
   ]
  },
  {
   "cell_type": "markdown",
   "id": "8bb67743-bcea-4a92-90c1-08980e9786cc",
   "metadata": {},
   "source": [
    "The standard format for distributing information for XYZ tile layers is the `tilejson`. You can request a `tilejson` document from titiler-pgstac and the response will include everything you would need to add the layer to a map."
   ]
  },
  {
   "cell_type": "code",
   "execution_count": null,
   "id": "8cbf296b-d0cc-4fff-a04e-0ade979fe5ed",
   "metadata": {
    "scrolled": true
   },
   "outputs": [],
   "source": [
    "tilejson_request = httpx.get(\n",
    "    f\"{titiler_pgstac_endpoint}/collections/{collection_id}/WebMercatorQuad/tilejson.json?{urlencode(params, doseq=True)}\",\n",
    "    timeout=None,\n",
    ")\n",
    "\n",
    "print(json.dumps(tilejson_request.json(), indent=2))"
   ]
  },
  {
   "cell_type": "markdown",
   "id": "eb7cbd49-320d-493a-883c-efaed3fb8b00",
   "metadata": {},
   "source": [
    "The `tiles` key in the tilejson response contains a list of XYZ tile URLs that can be added to most mapping/GIS applications:\n",
    "  - QGIS\n",
    "  - ArcGIS\n",
    "  - Leaflet\n",
    "  - Mapbox\n",
    "\n",
    "For now you can take a shortcut to view the map directly in this notebook using the `/map` endpoint which will generate an HTML file with a Leaflet map that can be rendered directly in the notebook.\n",
    "\n",
    "<div class=\"alert alert-block alert-warning\">\n",
    "It may take a while to render tiles for the full view because the titiler-pgstac container is downloading data from S3 in order to render the images - zoom in to have a better browsing experience.\n",
    "</div>"
   ]
  },
  {
   "cell_type": "code",
   "execution_count": null,
   "id": "4888eb92-b16e-4e47-afe3-fc779cbba820",
   "metadata": {},
   "outputs": [],
   "source": [
    "IFrame(\n",
    "    f\"{local_titiler_pgstac_endpoint}/collections/{collection_id}/WebMercatorQuad/map?{urlencode(params, doseq=True)}\",\n",
    "    1200,\n",
    "    800,\n",
    ")"
   ]
  },
  {
   "cell_type": "markdown",
   "id": "269479e9-5e13-458d-9abd-37b759425e86",
   "metadata": {},
   "source": [
    "### How does it work?\n",
    "\n",
    "- titiler-pgstac is running as a Lambda (serverless) function in AWS that started up when you made the request for the `/map` endpoint.\n",
    "- The `/map` endpoint returns an HTML file that is pre-populated with some map code that includes the layer that you specified with the request parameters\n",
    "- As you browse the map, the map is sending XYZ tile requests to titiler-pgstac function in AWS\n",
    "- Each request contains the information titiler-pgstac needs to search for items in the pgstac database and how to construct an image from the items' assets\n",
    "  - `collection_id`: by specifying the collection ID in the request path you are instructing titiler-pgstac to search for items from a specific STAC collection. Unless otherwise specified, pgstac will retrieve the STAC items in descending order by datetime and it will stop returning results when a tile's geometry is completely covered.\n",
    "  - `assets`: titiler-pgstac constructs images from STAC assets in the items that match the search\n",
    "  - by setting `assets=red&assets=blue&assets=green` we are requesting a 3-band rendering from the red, green, and blue assets in each STAC item\n",
    "  - `color_formula`: since the raw data could have any scale, you may need to apply a color forumula or simpler `rescale` to ensure the output images are visually useful"
   ]
  },
  {
   "cell_type": "markdown",
   "id": "4b649d4b-590c-449e-aa2d-b8c50f1d1a70",
   "metadata": {},
   "source": [
    "## 4.2 /searches\n",
    "\n",
    "Sometimes you will want to render visualizations from a more complex STAC query. titiler-pgstac and pgstac make it possible to pre-register a search query to make it easy to request tiles from a STAC search based on the filter parameters.\n",
    "\n",
    "The view in the example above may have some clouds visible so you can construct a query that will filter down the STAC item results to items that have low cloud cover.\n",
    "\n",
    "To do this you can first send a POST request to the `/searches/register` endpoint with your STAC query parameters like you would send to a STAC API when searching for items directly.\n",
    "Once the search is registered, you can make XYZ tile requests like you did for the default `/collections` view."
   ]
  },
  {
   "cell_type": "code",
   "execution_count": null,
   "id": "9ebbc173-45b4-4f38-a461-5d7dcfbaa733",
   "metadata": {},
   "outputs": [],
   "source": [
    "# get the bounding box from your STAC collection record to constrain the map view\n",
    "stac_api_endpoint = os.getenv(\"STAC_API_ENDPOINT\")\n",
    "\n",
    "collection_info = httpx.get(f\"{stac_api_endpoint}/collections/{collection_id}\").json()\n",
    "\n",
    "bbox = collection_info[\"extent\"][\"spatial\"][\"bbox\"][0]\n",
    "\n",
    "register_search_request = httpx.post(\n",
    "    f\"{titiler_pgstac_endpoint}/searches/register\",\n",
    "    json={\n",
    "        \"collections\": [collection_id],\n",
    "        \"bbox\": bbox,\n",
    "        # filter down to items from March 2025\n",
    "        # \"datetime\": \"2025-04-01T00:00:00Z/2025-05-01T00:00:00Z\",\n",
    "        # with less than 10% cloud cover\n",
    "        \"filter\": {\n",
    "            \"op\": \"lt\",\n",
    "            \"args\": [\n",
    "                {\"property\": \"eo:cloud_cover\"},\n",
    "                10,\n",
    "            ],\n",
    "        },\n",
    "    },\n",
    "    timeout=None,\n",
    ")\n",
    "\n",
    "search_response = register_search_request.json()\n",
    "print(json.dumps(search_response, indent=2))"
   ]
  },
  {
   "cell_type": "markdown",
   "id": "c329c88a-ff1d-4b4c-9c89-a603c9b791eb",
   "metadata": {},
   "source": [
    "The response comes back with an `id` which uniquely identifies this search and a handful of useful links associated with our newly registered search.\n",
    "\n",
    "Now you can browse the results of this search with the `/map` endpoint like you did earlier."
   ]
  },
  {
   "cell_type": "code",
   "execution_count": null,
   "id": "67c9c702-baef-4dc3-949c-c562f855a6a0",
   "metadata": {},
   "outputs": [],
   "source": [
    "search_id = search_response[\"id\"]\n",
    "\n",
    "params = (\n",
    "    (\"assets\", \"red\"),\n",
    "    (\"assets\", \"green\"),\n",
    "    (\"assets\", \"blue\"),\n",
    "    (\"color_formula\", \"Gamma RGB 3.0 Saturation 1.2 Sigmoidal RGB 15 0.35\"),\n",
    ")\n",
    "\n",
    "IFrame(\n",
    "    f\"{local_titiler_pgstac_endpoint}/searches/{search_id}/WebMercatorQuad/map?{urlencode(params, doseq=True)}\",\n",
    "    1200,\n",
    "    800,\n",
    ")"
   ]
  },
  {
   "cell_type": "markdown",
   "id": "f2642ca8-35d7-4ec8-9dd6-6a9eb786b288",
   "metadata": {},
   "source": [
    "Et voila! Now you have a view of the most recent images from your STAC collection that had less than 10% cloud cover. This works because we have so much useful information packed into the STAC items - thank goodness for STAC metadata!\n",
    "\n",
    "What other kinds of filters would be useful to apply?"
   ]
  },
  {
   "cell_type": "markdown",
   "id": "520b08f4-1d21-4459-9bdf-559264b93a62",
   "metadata": {},
   "source": [
    "## 4.3 band math expressions\n",
    "\n",
    "Perhaps you want to view NDVI or some other band math expression. You can set `asset_as_band=True` then write a mathematical expression that uses the asset keys as variables which titiler-pgstac will evaluate for each tile.\n",
    "\n",
    "In the example below you can request tiles for a view of NDVI and specify the colormap from a [list](https://cogeotiff.github.io/rio-tiler/colormap/#intervals-colormaps) of possible values. The results will be calculated on-the-fly by titiler-pgstac for each XYZ tile request, and returned to your map client in this notebook."
   ]
  },
  {
   "cell_type": "code",
   "execution_count": null,
   "id": "e2a709d5-9ed9-4260-b653-822875ab19c0",
   "metadata": {},
   "outputs": [],
   "source": [
    "params = (\n",
    "    (\"asset_as_band\", \"True\"),\n",
    "    (\"expression\", \"(nir - red) / (nir + red)\"),\n",
    "    (\"colormap_name\", \"viridis\"),\n",
    "    (\"rescale\", \"-0.5,1\"),\n",
    ")\n",
    "\n",
    "IFrame(\n",
    "    f\"{local_titiler_pgstac_endpoint}/searches/{search_id}/WebMercatorQuad/map?{urlencode(params, doseq=True)}\",\n",
    "    1200,\n",
    "    800,\n",
    ")"
   ]
  },
  {
   "cell_type": "markdown",
   "id": "00f0af47-d8c9-4e22-9be0-c00f74b37d0c",
   "metadata": {},
   "source": [
    "## 4.4 Customization\n",
    "\n",
    "eoAPI ships with the default titiler-pgstac application out-of-the-box, but there are several configuration options that you can set using environment variables in the API runtime environment. If there are features or other endpoints (like MosaicJSON capability) that you want to add, you will need to define a custom runtime that extends the default application.\n",
    "\n",
    "See [maap-eoapi](https://github.com/MAAP-Project/maap-eoapi/tree/main/cdk/runtimes/eoapi/raster/eoapi/raster) for an example of a custom runtime that extends the default settings.\n",
    "\n",
    "### 4.4.1 /external\n",
    "\n",
    "Sometimes you may want to render visualizations of data that are **not** cataloged in your STAC. The `/external` family of endpoints can be enabled by setting the environment variable `TITILER_PGSTAC_API_ENABLE_EXTERNAL_DATASET_ENDPOINTS=True`. This will enable you to create tile endpoints for any file available over HTTP.\n",
    "\n",
    "We have enabled this feature in the deployment that we set up for the workshop (see Line 154 in [infrastructure/app.py](../infrastructure/app.py#L154)).\n",
    "\n",
    "Here is a link to a cloud-optimized geotiff that you can use to test this feature."
   ]
  },
  {
   "cell_type": "code",
   "execution_count": null,
   "id": "47357724-23c2-4f21-8a3f-b49ddfeba4d3",
   "metadata": {},
   "outputs": [],
   "source": [
    "cog_href = \"https://nasa-maap-data-store.s3.us-west-2.amazonaws.com/file-staging/nasa-map/glad-global-forest-change-v1.11/Hansen_GFC-2023-v1.11_lossyear_40N_080W.tif\""
   ]
  },
  {
   "cell_type": "markdown",
   "id": "2cee76af-e2b8-49ce-a71f-ab8bbce2399b",
   "metadata": {},
   "source": [
    "You can get some basic information about a file using the `/external/info` endpoint. You have to use the `url` query parameter to direct titiler-pgstac to the file instead of relying on STAC collection and/or item characteristics because this file is not cataloged in the STAC."
   ]
  },
  {
   "cell_type": "code",
   "execution_count": null,
   "id": "ab6b853c-a272-45ce-9f68-7d18c899601c",
   "metadata": {},
   "outputs": [],
   "source": [
    "cog_info_request = httpx.get(\n",
    "    f\"{titiler_pgstac_endpoint}/external/info\",\n",
    "    params={\n",
    "        \"url\": cog_href,\n",
    "    },\n",
    ")\n",
    "\n",
    "print(json.dumps(cog_info_request.json(), indent=2))"
   ]
  },
  {
   "cell_type": "markdown",
   "id": "7bc45c7d-fed6-4333-9c4b-fabc842ef526",
   "metadata": {},
   "source": [
    "You can learn some basic raster attributes from the response including the CRS, dimensions, data type, etc.\n",
    "\n",
    "Now try the `/external/preview` endpoint to render a preview of the file."
   ]
  },
  {
   "cell_type": "code",
   "execution_count": null,
   "id": "1c308025-3e4d-469d-970e-90718ff35177",
   "metadata": {},
   "outputs": [],
   "source": [
    "preview_request = httpx.get(\n",
    "    f\"{titiler_pgstac_endpoint}/external/preview\",\n",
    "    params={\n",
    "        \"url\": cog_href,\n",
    "        \"maxsize\": 2048,\n",
    "    },\n",
    ")\n",
    "\n",
    "Image(preview_request.content)"
   ]
  },
  {
   "cell_type": "markdown",
   "id": "afde6302-6322-418c-aa1d-4955ffb68018",
   "metadata": {},
   "source": [
    "That image is very difficult to read because titiler-pgstac does not know how to scale the values in the file to 0-255 when converting it to PNG. You can specify the min/max for the rendering with the `rescale` parameter which takes a pair of comma-separated values. This will make titiler-pgstac rescale the image values such that a value of 0 gets a 0 in the output image and a value of 24 gets 255 (for the purposes of rendering).\n",
    "\n",
    "You can pick a colormap by name, too. `viridis` is a nice choice."
   ]
  },
  {
   "cell_type": "code",
   "execution_count": null,
   "id": "e545f84a-8a68-449f-9b51-4caa66352d39",
   "metadata": {},
   "outputs": [],
   "source": [
    "preview_request = httpx.get(\n",
    "    f\"{titiler_pgstac_endpoint}/external/preview\",\n",
    "    params={\n",
    "        \"url\": cog_href,\n",
    "        \"maxsize\": 2048,\n",
    "        \"colormap_name\": \"viridis\",\n",
    "        \"rescale\": \"0,24\",\n",
    "    },\n",
    ")\n",
    "\n",
    "Image(preview_request.content)"
   ]
  },
  {
   "cell_type": "markdown",
   "id": "cfbd601c-4722-4698-9a16-de8e7ec3958f",
   "metadata": {},
   "source": [
    "That's great but what if you have a particular colormap that you want to specify for this dataset?\n",
    "\n",
    "### 4.4.2 Manual colormaps\n",
    "\n",
    "The file you inspected in the previous step contains information about the year in which forest cover was lost for each pixel. There is a specific color map that you want to use because it is consistent with publications that discuss the dataset.\n",
    "\n",
    "titiler allows you to provide a colormap in JSON form but it requires some careful handling in the request. This colormap consists of `value: [r, g, b]` pairs for each unique value in the dataset. It can be passed to titiler-pgstac's `colormap` parameter by writing the dictionary to a JSON string with `json.dumps`."
   ]
  },
  {
   "cell_type": "code",
   "execution_count": null,
   "id": "ec04e2de-cb72-421c-954e-2a87ee87f477",
   "metadata": {},
   "outputs": [],
   "source": [
    "colormap = {\n",
    "    0: [0, 0, 0],\n",
    "    1: [255, 255, 0],\n",
    "    2: [255, 243, 0],\n",
    "    3: [255, 230, 0],\n",
    "    4: [255, 217, 0],\n",
    "    5: [255, 204, 0],\n",
    "    6: [255, 192, 0],\n",
    "    7: [255, 179, 0],\n",
    "    8: [255, 166, 0],\n",
    "    9: [255, 153, 0],\n",
    "    10: [255, 140, 0],\n",
    "    11: [255, 128, 0],\n",
    "    12: [255, 116, 0],\n",
    "    13: [255, 105, 0],\n",
    "    14: [255, 93, 0],\n",
    "    15: [255, 81, 0],\n",
    "    16: [255, 70, 0],\n",
    "    17: [255, 58, 0],\n",
    "    18: [255, 46, 0],\n",
    "    19: [255, 35, 0],\n",
    "    20: [255, 23, 0],\n",
    "    21: [255, 12, 0],\n",
    "    22: [255, 0, 0],\n",
    "    23: [0, 255, 255],\n",
    "}\n",
    "\n",
    "preview_request = httpx.get(\n",
    "    f\"{titiler_pgstac_endpoint}/external/preview\",\n",
    "    params={\n",
    "        \"url\": cog_href,\n",
    "        \"maxsize\": 2048,\n",
    "        #\n",
    "        \"colormap\": json.dumps({i: rgb for i, rgb in colormap.items()}),\n",
    "    },\n",
    ")\n",
    "\n",
    "Image(preview_request.content)"
   ]
  },
  {
   "cell_type": "markdown",
   "id": "7b52e0c1-624d-453e-8325-3925679736d6",
   "metadata": {},
   "source": [
    "Now that you have your colormap sorted out try rendering the image in an interactive map like the previous examples by sending a request to `/external/WebMercatorQuad/map`."
   ]
  },
  {
   "cell_type": "code",
   "execution_count": null,
   "id": "3b41341a-a1b4-4a72-8d29-ef730b0d8fa5",
   "metadata": {},
   "outputs": [],
   "source": [
    "map_request = httpx.get(\n",
    "    f\"{local_titiler_pgstac_endpoint}/external/WebMercatorQuad/map\",\n",
    "    params={\n",
    "        \"url\": cog_href,\n",
    "        \"maxsize\": 2048,\n",
    "        \"colormap\": json.dumps({i: rgb for i, rgb in colormap.items()}),\n",
    "    },\n",
    "    timeout=None,\n",
    ")\n",
    "\n",
    "\n",
    "IFrame(\n",
    "    map_request.url,\n",
    "    1200,\n",
    "    800,\n",
    ")"
   ]
  },
  {
   "cell_type": "markdown",
   "id": "7061c465-7d64-49f5-9f18-1b33076fa698",
   "metadata": {},
   "source": [
    "What a nice view of that cloud-optimized geotiff, right? It would be better if you could browse the entire global dataset in a map like this, though. You could do that if you loaded the dataset into your STAC!\n",
    "\n",
    "This particular dataset is loaded in [NASA MAAP](https://maap-project.org)'s STAC and is accessible on that organization's titiler-pgstac deployment so here is a sneak peak of the global view (be patient it can take a few seconds for a titiler-pgstac running on AWS Lambda to warm up!)."
   ]
  },
  {
   "cell_type": "code",
   "execution_count": null,
   "id": "eeafa77e-b975-478c-82cc-7acca83aabaa",
   "metadata": {},
   "outputs": [],
   "source": [
    "map_request = httpx.get(\n",
    "    \"https://titiler-pgstac.maap-project.org/collections/glad-global-forest-change-1.11/WebMercatorQuad/map\",\n",
    "    params={\n",
    "        \"assets\": \"lossyear\",\n",
    "        \"colormap\": json.dumps({i: rgb for i, rgb in colormap.items()}),\n",
    "    },\n",
    "    timeout=None,\n",
    ")\n",
    "\n",
    "\n",
    "IFrame(\n",
    "    map_request.url,\n",
    "    1200,\n",
    "    800,\n",
    ")"
   ]
  }
 ],
 "metadata": {
  "kernelspec": {
   "display_name": "Python 3 (ipykernel)",
   "language": "python",
   "name": "python3"
  },
  "language_info": {
   "codemirror_mode": {
    "name": "ipython",
    "version": 3
   },
   "file_extension": ".py",
   "mimetype": "text/x-python",
   "name": "python",
   "nbconvert_exporter": "python",
   "pygments_lexer": "ipython3",
   "version": "3.12.3"
  }
 },
 "nbformat": 4,
 "nbformat_minor": 5
}